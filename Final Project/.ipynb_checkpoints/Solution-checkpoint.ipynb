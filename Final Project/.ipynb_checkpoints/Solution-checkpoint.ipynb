{
 "cells": [
  {
   "cell_type": "code",
   "execution_count": 167,
   "metadata": {},
   "outputs": [],
   "source": [
    "import pandas as pd\n",
    "import numpy as np\n",
    "import matplotlib.pyplot as plt\n",
    "import seaborn as sns\n",
    "import xgboost as xgb\n",
    "import os\n",
    "import pickle\n",
    "\n",
    "from keras.models import Sequential\n",
    "from keras.layers import Dense, Activation\n",
    "from keras.optimizers import Adam\n",
    "from keras.models import load_model\n",
    "\n",
    "from sklearn.model_selection import StratifiedKFold, train_test_split\n",
    "from sklearn.metrics import mean_squared_error\n",
    "from sklearn.linear_model import Ridge, LinearRegression, Lasso\n",
    "from sklearn.ensemble import RandomForestRegressor, ExtraTreesRegressor\n",
    "from itertools import product\n",
    "%matplotlib inline"
   ]
  },
  {
   "cell_type": "code",
   "execution_count": 168,
   "metadata": {},
   "outputs": [],
   "source": [
    "DATA_FOLDER = '../readonly/final_project_data/'\n",
    "\n",
    "transactions    = pd.read_csv(os.path.join(DATA_FOLDER, 'sales_train.csv.gz'))\n",
    "items           = pd.read_csv(os.path.join(DATA_FOLDER, 'items.csv'))\n",
    "item_categories = pd.read_csv(os.path.join(DATA_FOLDER, 'item_categories.csv'))\n",
    "shops           = pd.read_csv(os.path.join(DATA_FOLDER, 'shops.csv'))\n",
    "test            = pd.read_csv(os.path.join(DATA_FOLDER, 'test.csv'))\n",
    "\n",
    "# Save memory\n",
    "transactions['item_cnt_day']        = transactions['item_cnt_day'].astype('int32')\n",
    "transactions['date_block_num']      = transactions['date_block_num'].astype('int32')\n",
    "transactions['shop_id']             = transactions['shop_id'].astype('int32')\n",
    "transactions['item_id']             = transactions['item_id'].astype('int32')\n",
    "transactions['item_price']          = transactions['item_price'].astype('int32')\n",
    "items['item_id']                    = items['item_id'].astype('int32')\n",
    "items['item_category_id']           = items['item_category_id'].astype('int32')\n",
    "item_categories['item_category_id'] = item_categories['item_category_id'].astype('int32')\n",
    "shops['shop_id']                    = shops['shop_id'].astype('int32')\n",
    "test['ID']                          = test['ID'].astype('int32')\n",
    "test['shop_id']                     = test['shop_id'].astype('int32')\n",
    "test['item_id']                     = test['item_id'].astype('int32')"
   ]
  },
  {
   "cell_type": "code",
   "execution_count": 169,
   "metadata": {},
   "outputs": [],
   "source": [
    "def lookup(s):\n",
    "    \"\"\" Fast date formating.\n",
    "        https://stackoverflow.com/questions/29882573/pandas-slow-date-conversion\n",
    "    \"\"\"\n",
    "    dates = {date:pd.to_datetime(date, format='%d.%m.%Y') for date in s.unique()}\n",
    "    return s.map(dates)\n",
    "\n",
    "transactions['date'] = lookup(transactions['date'])"
   ]
  },
  {
   "cell_type": "markdown",
   "metadata": {},
   "source": [
    "# EDA"
   ]
  },
  {
   "cell_type": "markdown",
   "metadata": {},
   "source": [
    "There are six different data files."
   ]
  },
  {
   "cell_type": "code",
   "execution_count": 4,
   "metadata": {},
   "outputs": [
    {
     "name": "stdout",
     "output_type": "stream",
     "text": [
      "transactions: (2935849, 6)\n",
      "items: (22170, 3)\n",
      "item_categories: (84, 2)\n",
      "shops: (60, 2)\n",
      "test: (214200, 3)\n"
     ]
    }
   ],
   "source": [
    "print('transactions:', transactions.shape)\n",
    "print('items:', items.shape)\n",
    "print('item_categories:', item_categories.shape)\n",
    "print('shops:', shops.shape)\n",
    "print('test:', test.shape)"
   ]
  },
  {
   "cell_type": "markdown",
   "metadata": {},
   "source": [
    "## Transactions"
   ]
  },
  {
   "cell_type": "markdown",
   "metadata": {},
   "source": [
    "This dataset contains the transactions from January 2013 to October 2015. We have to predict the sold items for each shop for November 2015."
   ]
  },
  {
   "cell_type": "code",
   "execution_count": 5,
   "metadata": {},
   "outputs": [
    {
     "data": {
      "text/html": [
       "<div>\n",
       "<style scoped>\n",
       "    .dataframe tbody tr th:only-of-type {\n",
       "        vertical-align: middle;\n",
       "    }\n",
       "\n",
       "    .dataframe tbody tr th {\n",
       "        vertical-align: top;\n",
       "    }\n",
       "\n",
       "    .dataframe thead th {\n",
       "        text-align: right;\n",
       "    }\n",
       "</style>\n",
       "<table border=\"1\" class=\"dataframe\">\n",
       "  <thead>\n",
       "    <tr style=\"text-align: right;\">\n",
       "      <th></th>\n",
       "      <th>count</th>\n",
       "      <th>mean</th>\n",
       "      <th>std</th>\n",
       "      <th>min</th>\n",
       "      <th>25%</th>\n",
       "      <th>50%</th>\n",
       "      <th>75%</th>\n",
       "      <th>max</th>\n",
       "    </tr>\n",
       "  </thead>\n",
       "  <tbody>\n",
       "    <tr>\n",
       "      <th>date_block_num</th>\n",
       "      <td>2935849.0</td>\n",
       "      <td>14.569911</td>\n",
       "      <td>9.422988</td>\n",
       "      <td>0.0</td>\n",
       "      <td>7.0</td>\n",
       "      <td>14.0</td>\n",
       "      <td>23.0</td>\n",
       "      <td>33.0</td>\n",
       "    </tr>\n",
       "    <tr>\n",
       "      <th>shop_id</th>\n",
       "      <td>2935849.0</td>\n",
       "      <td>33.001728</td>\n",
       "      <td>16.226973</td>\n",
       "      <td>0.0</td>\n",
       "      <td>22.0</td>\n",
       "      <td>31.0</td>\n",
       "      <td>47.0</td>\n",
       "      <td>59.0</td>\n",
       "    </tr>\n",
       "    <tr>\n",
       "      <th>item_id</th>\n",
       "      <td>2935849.0</td>\n",
       "      <td>10197.227057</td>\n",
       "      <td>6324.297354</td>\n",
       "      <td>0.0</td>\n",
       "      <td>4476.0</td>\n",
       "      <td>9343.0</td>\n",
       "      <td>15684.0</td>\n",
       "      <td>22169.0</td>\n",
       "    </tr>\n",
       "    <tr>\n",
       "      <th>item_price</th>\n",
       "      <td>2935849.0</td>\n",
       "      <td>890.822586</td>\n",
       "      <td>1729.800896</td>\n",
       "      <td>-1.0</td>\n",
       "      <td>249.0</td>\n",
       "      <td>399.0</td>\n",
       "      <td>999.0</td>\n",
       "      <td>307980.0</td>\n",
       "    </tr>\n",
       "    <tr>\n",
       "      <th>item_cnt_day</th>\n",
       "      <td>2935849.0</td>\n",
       "      <td>1.242641</td>\n",
       "      <td>2.618834</td>\n",
       "      <td>-22.0</td>\n",
       "      <td>1.0</td>\n",
       "      <td>1.0</td>\n",
       "      <td>1.0</td>\n",
       "      <td>2169.0</td>\n",
       "    </tr>\n",
       "  </tbody>\n",
       "</table>\n",
       "</div>"
      ],
      "text/plain": [
       "                    count          mean          std   min     25%     50%  \\\n",
       "date_block_num  2935849.0     14.569911     9.422988   0.0     7.0    14.0   \n",
       "shop_id         2935849.0     33.001728    16.226973   0.0    22.0    31.0   \n",
       "item_id         2935849.0  10197.227057  6324.297354   0.0  4476.0  9343.0   \n",
       "item_price      2935849.0    890.822586  1729.800896  -1.0   249.0   399.0   \n",
       "item_cnt_day    2935849.0      1.242641     2.618834 -22.0     1.0     1.0   \n",
       "\n",
       "                    75%       max  \n",
       "date_block_num     23.0      33.0  \n",
       "shop_id            47.0      59.0  \n",
       "item_id         15684.0   22169.0  \n",
       "item_price        999.0  307980.0  \n",
       "item_cnt_day        1.0    2169.0  "
      ]
     },
     "execution_count": 5,
     "metadata": {},
     "output_type": "execute_result"
    }
   ],
   "source": [
    "transactions.describe().T"
   ]
  },
  {
   "cell_type": "code",
   "execution_count": 6,
   "metadata": {},
   "outputs": [
    {
     "data": {
      "text/html": [
       "<div>\n",
       "<style scoped>\n",
       "    .dataframe tbody tr th:only-of-type {\n",
       "        vertical-align: middle;\n",
       "    }\n",
       "\n",
       "    .dataframe tbody tr th {\n",
       "        vertical-align: top;\n",
       "    }\n",
       "\n",
       "    .dataframe thead th {\n",
       "        text-align: right;\n",
       "    }\n",
       "</style>\n",
       "<table border=\"1\" class=\"dataframe\">\n",
       "  <thead>\n",
       "    <tr style=\"text-align: right;\">\n",
       "      <th></th>\n",
       "      <th>date</th>\n",
       "      <th>date_block_num</th>\n",
       "      <th>shop_id</th>\n",
       "      <th>item_id</th>\n",
       "      <th>item_price</th>\n",
       "      <th>item_cnt_day</th>\n",
       "    </tr>\n",
       "  </thead>\n",
       "  <tbody>\n",
       "    <tr>\n",
       "      <th>0</th>\n",
       "      <td>2013-01-02</td>\n",
       "      <td>0</td>\n",
       "      <td>59</td>\n",
       "      <td>22154</td>\n",
       "      <td>999</td>\n",
       "      <td>1</td>\n",
       "    </tr>\n",
       "    <tr>\n",
       "      <th>1</th>\n",
       "      <td>2013-01-03</td>\n",
       "      <td>0</td>\n",
       "      <td>25</td>\n",
       "      <td>2552</td>\n",
       "      <td>899</td>\n",
       "      <td>1</td>\n",
       "    </tr>\n",
       "    <tr>\n",
       "      <th>2</th>\n",
       "      <td>2013-01-05</td>\n",
       "      <td>0</td>\n",
       "      <td>25</td>\n",
       "      <td>2552</td>\n",
       "      <td>899</td>\n",
       "      <td>-1</td>\n",
       "    </tr>\n",
       "    <tr>\n",
       "      <th>3</th>\n",
       "      <td>2013-01-06</td>\n",
       "      <td>0</td>\n",
       "      <td>25</td>\n",
       "      <td>2554</td>\n",
       "      <td>1709</td>\n",
       "      <td>1</td>\n",
       "    </tr>\n",
       "    <tr>\n",
       "      <th>4</th>\n",
       "      <td>2013-01-15</td>\n",
       "      <td>0</td>\n",
       "      <td>25</td>\n",
       "      <td>2555</td>\n",
       "      <td>1099</td>\n",
       "      <td>1</td>\n",
       "    </tr>\n",
       "  </tbody>\n",
       "</table>\n",
       "</div>"
      ],
      "text/plain": [
       "        date  date_block_num  shop_id  item_id  item_price  item_cnt_day\n",
       "0 2013-01-02               0       59    22154         999             1\n",
       "1 2013-01-03               0       25     2552         899             1\n",
       "2 2013-01-05               0       25     2552         899            -1\n",
       "3 2013-01-06               0       25     2554        1709             1\n",
       "4 2013-01-15               0       25     2555        1099             1"
      ]
     },
     "execution_count": 6,
     "metadata": {},
     "output_type": "execute_result"
    }
   ],
   "source": [
    "transactions.head()"
   ]
  },
  {
   "cell_type": "code",
   "execution_count": 7,
   "metadata": {},
   "outputs": [
    {
     "name": "stdout",
     "output_type": "stream",
     "text": [
      "<class 'pandas.core.frame.DataFrame'>\n",
      "RangeIndex: 2935849 entries, 0 to 2935848\n",
      "Data columns (total 6 columns):\n",
      "date              datetime64[ns]\n",
      "date_block_num    int32\n",
      "shop_id           int32\n",
      "item_id           int32\n",
      "item_price        int32\n",
      "item_cnt_day      int32\n",
      "dtypes: datetime64[ns](1), int32(5)\n",
      "memory usage: 78.4 MB\n"
     ]
    }
   ],
   "source": [
    "transactions.info()"
   ]
  },
  {
   "cell_type": "markdown",
   "metadata": {},
   "source": [
    "###### Categorical features"
   ]
  },
  {
   "cell_type": "code",
   "execution_count": 8,
   "metadata": {},
   "outputs": [
    {
     "data": {
      "text/html": [
       "<div>\n",
       "<style scoped>\n",
       "    .dataframe tbody tr th:only-of-type {\n",
       "        vertical-align: middle;\n",
       "    }\n",
       "\n",
       "    .dataframe tbody tr th {\n",
       "        vertical-align: top;\n",
       "    }\n",
       "\n",
       "    .dataframe thead th {\n",
       "        text-align: right;\n",
       "    }\n",
       "</style>\n",
       "<table border=\"1\" class=\"dataframe\">\n",
       "  <thead>\n",
       "    <tr style=\"text-align: right;\">\n",
       "      <th></th>\n",
       "      <th>count</th>\n",
       "      <th>unique</th>\n",
       "      <th>top</th>\n",
       "      <th>freq</th>\n",
       "    </tr>\n",
       "  </thead>\n",
       "  <tbody>\n",
       "    <tr>\n",
       "      <th>date_block_num</th>\n",
       "      <td>2935849</td>\n",
       "      <td>34</td>\n",
       "      <td>11</td>\n",
       "      <td>143246</td>\n",
       "    </tr>\n",
       "    <tr>\n",
       "      <th>item_id</th>\n",
       "      <td>2935849</td>\n",
       "      <td>21807</td>\n",
       "      <td>20949</td>\n",
       "      <td>31340</td>\n",
       "    </tr>\n",
       "    <tr>\n",
       "      <th>shop_id</th>\n",
       "      <td>2935849</td>\n",
       "      <td>60</td>\n",
       "      <td>31</td>\n",
       "      <td>235636</td>\n",
       "    </tr>\n",
       "  </tbody>\n",
       "</table>\n",
       "</div>"
      ],
      "text/plain": [
       "                  count  unique    top    freq\n",
       "date_block_num  2935849      34     11  143246\n",
       "item_id         2935849   21807  20949   31340\n",
       "shop_id         2935849      60     31  235636"
      ]
     },
     "execution_count": 8,
     "metadata": {},
     "output_type": "execute_result"
    }
   ],
   "source": [
    "pd.DataFrame({'shop_id': pd.Series(pd.Categorical(transactions['shop_id'])),\n",
    "              'item_id': pd.Series(pd.Categorical(transactions['item_id'])),\n",
    "              'date_block_num': pd.Series(pd.Categorical(transactions['date_block_num'], ordered=True))\n",
    "             }).describe().T"
   ]
  },
  {
   "cell_type": "code",
   "execution_count": 9,
   "metadata": {},
   "outputs": [
    {
     "data": {
      "image/png": "[encoded data removed]",
      "text/plain": [
       "<matplotlib.figure.Figure at 0x7fe787ef4cf8>"
      ]
     },
     "metadata": {},
     "output_type": "display_data"
    }
   ],
   "source": [
    "plt.figure(figsize=(10, 6))\n",
    "\n",
    "plt.subplot(3, 1, 1)\n",
    "transactions.groupby('date_block_num')['item_cnt_day'].count().plot(kind='bar')\n",
    "plt.title('Numer of transactions for different blocktimes')\n",
    "plt.ylabel('Transactions')\n",
    "\n",
    "plt.subplot(3, 1, 2)\n",
    "transactions.groupby('date_block_num')['item_cnt_day'].sum().plot(kind='bar')\n",
    "plt.title('Sold items for different blocktimes')\n",
    "plt.ylabel('item_cnt_day')\n",
    "\n",
    "plt.subplot(3, 1, 3)\n",
    "plt.boxplot(transactions['item_cnt_day'], vert=False)\n",
    "plt.title('Item count per transactions')\n",
    "plt.xlabel('item_cnt_day')\n",
    "\n",
    "plt.tight_layout()\n",
    "plt.show()"
   ]
  },
  {
   "cell_type": "code",
   "execution_count": 10,
   "metadata": {},
   "outputs": [
    {
     "name": "stdout",
     "output_type": "stream",
     "text": [
      "Min Item Count: -22\n",
      "Max Item Count: 2169\n",
      "99 Quantile: 5.0\n"
     ]
    }
   ],
   "source": [
    "print('Min Item Count:', transactions['item_cnt_day'].min())\n",
    "print('Max Item Count:', transactions['item_cnt_day'].max())\n",
    "print('99 Quantile:', transactions['item_cnt_day'].quantile(0.99))"
   ]
  },
  {
   "cell_type": "markdown",
   "metadata": {},
   "source": [
    "The most transactions contain only few items, also the 0.99 percentile is 5 so there are few transactions with a huge amount of items maybe there are wrong or there they are real orders. We should measure model performance with and without the huge outliers. It seems that the negative values are returns.\n",
    "\n",
    "We can also see that in dateblock <u>11</u> and <u>23</u> are much more items sold than during the other dateblock, this is due the fact that these two dateblocks are the month December 2013 and December 2014 and that sounds logical."
   ]
  },
  {
   "cell_type": "markdown",
   "metadata": {},
   "source": [
    "###### Remove all over 99 percentile"
   ]
  },
  {
   "cell_type": "code",
   "execution_count": 11,
   "metadata": {},
   "outputs": [],
   "source": [
    "transactions = transactions[transactions['item_cnt_day'] <= transactions['item_cnt_day'].quantile(0.99)]"
   ]
  },
  {
   "cell_type": "markdown",
   "metadata": {},
   "source": [
    "## Items"
   ]
  },
  {
   "cell_type": "code",
   "execution_count": 12,
   "metadata": {},
   "outputs": [
    {
     "data": {
      "text/html": [
       "<div>\n",
       "<style scoped>\n",
       "    .dataframe tbody tr th:only-of-type {\n",
       "        vertical-align: middle;\n",
       "    }\n",
       "\n",
       "    .dataframe tbody tr th {\n",
       "        vertical-align: top;\n",
       "    }\n",
       "\n",
       "    .dataframe thead th {\n",
       "        text-align: right;\n",
       "    }\n",
       "</style>\n",
       "<table border=\"1\" class=\"dataframe\">\n",
       "  <thead>\n",
       "    <tr style=\"text-align: right;\">\n",
       "      <th></th>\n",
       "      <th>item_name</th>\n",
       "      <th>item_id</th>\n",
       "      <th>item_category_id</th>\n",
       "    </tr>\n",
       "  </thead>\n",
       "  <tbody>\n",
       "    <tr>\n",
       "      <th>0</th>\n",
       "      <td>! ВО ВЛАСТИ НАВАЖДЕНИЯ (ПЛАСТ.)         D</td>\n",
       "      <td>0</td>\n",
       "      <td>40</td>\n",
       "    </tr>\n",
       "    <tr>\n",
       "      <th>1</th>\n",
       "      <td>!ABBYY FineReader 12 Professional Edition Full...</td>\n",
       "      <td>1</td>\n",
       "      <td>76</td>\n",
       "    </tr>\n",
       "    <tr>\n",
       "      <th>2</th>\n",
       "      <td>***В ЛУЧАХ СЛАВЫ   (UNV)                    D</td>\n",
       "      <td>2</td>\n",
       "      <td>40</td>\n",
       "    </tr>\n",
       "    <tr>\n",
       "      <th>3</th>\n",
       "      <td>***ГОЛУБАЯ ВОЛНА  (Univ)                      D</td>\n",
       "      <td>3</td>\n",
       "      <td>40</td>\n",
       "    </tr>\n",
       "    <tr>\n",
       "      <th>4</th>\n",
       "      <td>***КОРОБКА (СТЕКЛО)                       D</td>\n",
       "      <td>4</td>\n",
       "      <td>40</td>\n",
       "    </tr>\n",
       "  </tbody>\n",
       "</table>\n",
       "</div>"
      ],
      "text/plain": [
       "                                           item_name  item_id  \\\n",
       "0          ! ВО ВЛАСТИ НАВАЖДЕНИЯ (ПЛАСТ.)         D        0   \n",
       "1  !ABBYY FineReader 12 Professional Edition Full...        1   \n",
       "2      ***В ЛУЧАХ СЛАВЫ   (UNV)                    D        2   \n",
       "3    ***ГОЛУБАЯ ВОЛНА  (Univ)                      D        3   \n",
       "4        ***КОРОБКА (СТЕКЛО)                       D        4   \n",
       "\n",
       "   item_category_id  \n",
       "0                40  \n",
       "1                76  \n",
       "2                40  \n",
       "3                40  \n",
       "4                40  "
      ]
     },
     "execution_count": 12,
     "metadata": {},
     "output_type": "execute_result"
    }
   ],
   "source": [
    "items.head()"
   ]
  },
  {
   "cell_type": "code",
   "execution_count": 13,
   "metadata": {},
   "outputs": [
    {
     "name": "stdout",
     "output_type": "stream",
     "text": [
      "<class 'pandas.core.frame.DataFrame'>\n",
      "RangeIndex: 22170 entries, 0 to 22169\n",
      "Data columns (total 3 columns):\n",
      "item_name           22170 non-null object\n",
      "item_id             22170 non-null int32\n",
      "item_category_id    22170 non-null int32\n",
      "dtypes: int32(2), object(1)\n",
      "memory usage: 346.5+ KB\n"
     ]
    }
   ],
   "source": [
    "items.info()"
   ]
  },
  {
   "cell_type": "markdown",
   "metadata": {},
   "source": [
    "###### Categorical features"
   ]
  },
  {
   "cell_type": "code",
   "execution_count": 14,
   "metadata": {},
   "outputs": [
    {
     "data": {
      "text/html": [
       "<div>\n",
       "<style scoped>\n",
       "    .dataframe tbody tr th:only-of-type {\n",
       "        vertical-align: middle;\n",
       "    }\n",
       "\n",
       "    .dataframe tbody tr th {\n",
       "        vertical-align: top;\n",
       "    }\n",
       "\n",
       "    .dataframe thead th {\n",
       "        text-align: right;\n",
       "    }\n",
       "</style>\n",
       "<table border=\"1\" class=\"dataframe\">\n",
       "  <thead>\n",
       "    <tr style=\"text-align: right;\">\n",
       "      <th></th>\n",
       "      <th>count</th>\n",
       "      <th>unique</th>\n",
       "      <th>top</th>\n",
       "      <th>freq</th>\n",
       "    </tr>\n",
       "  </thead>\n",
       "  <tbody>\n",
       "    <tr>\n",
       "      <th>item_category_id</th>\n",
       "      <td>22170</td>\n",
       "      <td>84</td>\n",
       "      <td>40</td>\n",
       "      <td>5035</td>\n",
       "    </tr>\n",
       "  </tbody>\n",
       "</table>\n",
       "</div>"
      ],
      "text/plain": [
       "                  count  unique  top  freq\n",
       "item_category_id  22170      84   40  5035"
      ]
     },
     "execution_count": 14,
     "metadata": {},
     "output_type": "execute_result"
    }
   ],
   "source": [
    "pd.DataFrame({'item_category_id': pd.Series(pd.Categorical(items['item_category_id']))}).describe().T"
   ]
  },
  {
   "cell_type": "code",
   "execution_count": 15,
   "metadata": {},
   "outputs": [
    {
     "data": {
      "image/png": "[encoded data removed]",
      "text/plain": [
       "<matplotlib.figure.Figure at 0x7fe788364ba8>"
      ]
     },
     "metadata": {},
     "output_type": "display_data"
    }
   ],
   "source": [
    "items['item_category_id'].hist(bins=83)\n",
    "plt.show()"
   ]
  },
  {
   "cell_type": "markdown",
   "metadata": {},
   "source": [
    "We can clearly see that some categories occur very often, the top category is 40."
   ]
  },
  {
   "cell_type": "markdown",
   "metadata": {},
   "source": [
    "## Item Categories"
   ]
  },
  {
   "cell_type": "markdown",
   "metadata": {},
   "source": [
    "This dataset contains the names for the different item categories."
   ]
  },
  {
   "cell_type": "code",
   "execution_count": 16,
   "metadata": {},
   "outputs": [
    {
     "data": {
      "text/html": [
       "<div>\n",
       "<style scoped>\n",
       "    .dataframe tbody tr th:only-of-type {\n",
       "        vertical-align: middle;\n",
       "    }\n",
       "\n",
       "    .dataframe tbody tr th {\n",
       "        vertical-align: top;\n",
       "    }\n",
       "\n",
       "    .dataframe thead th {\n",
       "        text-align: right;\n",
       "    }\n",
       "</style>\n",
       "<table border=\"1\" class=\"dataframe\">\n",
       "  <thead>\n",
       "    <tr style=\"text-align: right;\">\n",
       "      <th></th>\n",
       "      <th>item_category_name</th>\n",
       "      <th>item_category_id</th>\n",
       "    </tr>\n",
       "  </thead>\n",
       "  <tbody>\n",
       "    <tr>\n",
       "      <th>0</th>\n",
       "      <td>PC - Гарнитуры/Наушники</td>\n",
       "      <td>0</td>\n",
       "    </tr>\n",
       "    <tr>\n",
       "      <th>1</th>\n",
       "      <td>Аксессуары - PS2</td>\n",
       "      <td>1</td>\n",
       "    </tr>\n",
       "    <tr>\n",
       "      <th>2</th>\n",
       "      <td>Аксессуары - PS3</td>\n",
       "      <td>2</td>\n",
       "    </tr>\n",
       "    <tr>\n",
       "      <th>3</th>\n",
       "      <td>Аксессуары - PS4</td>\n",
       "      <td>3</td>\n",
       "    </tr>\n",
       "    <tr>\n",
       "      <th>4</th>\n",
       "      <td>Аксессуары - PSP</td>\n",
       "      <td>4</td>\n",
       "    </tr>\n",
       "  </tbody>\n",
       "</table>\n",
       "</div>"
      ],
      "text/plain": [
       "        item_category_name  item_category_id\n",
       "0  PC - Гарнитуры/Наушники                 0\n",
       "1         Аксессуары - PS2                 1\n",
       "2         Аксессуары - PS3                 2\n",
       "3         Аксессуары - PS4                 3\n",
       "4         Аксессуары - PSP                 4"
      ]
     },
     "execution_count": 16,
     "metadata": {},
     "output_type": "execute_result"
    }
   ],
   "source": [
    "item_categories.head()"
   ]
  },
  {
   "cell_type": "code",
   "execution_count": 17,
   "metadata": {},
   "outputs": [
    {
     "name": "stdout",
     "output_type": "stream",
     "text": [
      "<class 'pandas.core.frame.DataFrame'>\n",
      "RangeIndex: 84 entries, 0 to 83\n",
      "Data columns (total 2 columns):\n",
      "item_category_name    84 non-null object\n",
      "item_category_id      84 non-null int32\n",
      "dtypes: int32(1), object(1)\n",
      "memory usage: 1.1+ KB\n"
     ]
    }
   ],
   "source": [
    "item_categories.info()"
   ]
  },
  {
   "cell_type": "markdown",
   "metadata": {},
   "source": [
    "There are 84 different item categories."
   ]
  },
  {
   "cell_type": "markdown",
   "metadata": {},
   "source": [
    "## Shops"
   ]
  },
  {
   "cell_type": "markdown",
   "metadata": {},
   "source": [
    "This dataset cotains the names for the different shops."
   ]
  },
  {
   "cell_type": "code",
   "execution_count": 18,
   "metadata": {},
   "outputs": [
    {
     "data": {
      "text/html": [
       "<div>\n",
       "<style scoped>\n",
       "    .dataframe tbody tr th:only-of-type {\n",
       "        vertical-align: middle;\n",
       "    }\n",
       "\n",
       "    .dataframe tbody tr th {\n",
       "        vertical-align: top;\n",
       "    }\n",
       "\n",
       "    .dataframe thead th {\n",
       "        text-align: right;\n",
       "    }\n",
       "</style>\n",
       "<table border=\"1\" class=\"dataframe\">\n",
       "  <thead>\n",
       "    <tr style=\"text-align: right;\">\n",
       "      <th></th>\n",
       "      <th>shop_name</th>\n",
       "      <th>shop_id</th>\n",
       "    </tr>\n",
       "  </thead>\n",
       "  <tbody>\n",
       "    <tr>\n",
       "      <th>0</th>\n",
       "      <td>!Якутск Орджоникидзе, 56 фран</td>\n",
       "      <td>0</td>\n",
       "    </tr>\n",
       "    <tr>\n",
       "      <th>1</th>\n",
       "      <td>!Якутск ТЦ \"Центральный\" фран</td>\n",
       "      <td>1</td>\n",
       "    </tr>\n",
       "    <tr>\n",
       "      <th>2</th>\n",
       "      <td>Адыгея ТЦ \"Мега\"</td>\n",
       "      <td>2</td>\n",
       "    </tr>\n",
       "    <tr>\n",
       "      <th>3</th>\n",
       "      <td>Балашиха ТРК \"Октябрь-Киномир\"</td>\n",
       "      <td>3</td>\n",
       "    </tr>\n",
       "    <tr>\n",
       "      <th>4</th>\n",
       "      <td>Волжский ТЦ \"Волга Молл\"</td>\n",
       "      <td>4</td>\n",
       "    </tr>\n",
       "  </tbody>\n",
       "</table>\n",
       "</div>"
      ],
      "text/plain": [
       "                        shop_name  shop_id\n",
       "0   !Якутск Орджоникидзе, 56 фран        0\n",
       "1   !Якутск ТЦ \"Центральный\" фран        1\n",
       "2                Адыгея ТЦ \"Мега\"        2\n",
       "3  Балашиха ТРК \"Октябрь-Киномир\"        3\n",
       "4        Волжский ТЦ \"Волга Молл\"        4"
      ]
     },
     "execution_count": 18,
     "metadata": {},
     "output_type": "execute_result"
    }
   ],
   "source": [
    "shops.head()"
   ]
  },
  {
   "cell_type": "code",
   "execution_count": 19,
   "metadata": {},
   "outputs": [
    {
     "name": "stdout",
     "output_type": "stream",
     "text": [
      "<class 'pandas.core.frame.DataFrame'>\n",
      "RangeIndex: 60 entries, 0 to 59\n",
      "Data columns (total 2 columns):\n",
      "shop_name    60 non-null object\n",
      "shop_id      60 non-null int32\n",
      "dtypes: int32(1), object(1)\n",
      "memory usage: 800.0+ bytes\n"
     ]
    }
   ],
   "source": [
    "shops.info()"
   ]
  },
  {
   "cell_type": "markdown",
   "metadata": {},
   "source": [
    "There are 60 different shops."
   ]
  },
  {
   "cell_type": "markdown",
   "metadata": {},
   "source": [
    "## Test"
   ]
  },
  {
   "cell_type": "markdown",
   "metadata": {},
   "source": [
    "This is the testdata, we need to forecast the sold items for November 2015."
   ]
  },
  {
   "cell_type": "code",
   "execution_count": 20,
   "metadata": {},
   "outputs": [
    {
     "data": {
      "text/html": [
       "<div>\n",
       "<style scoped>\n",
       "    .dataframe tbody tr th:only-of-type {\n",
       "        vertical-align: middle;\n",
       "    }\n",
       "\n",
       "    .dataframe tbody tr th {\n",
       "        vertical-align: top;\n",
       "    }\n",
       "\n",
       "    .dataframe thead th {\n",
       "        text-align: right;\n",
       "    }\n",
       "</style>\n",
       "<table border=\"1\" class=\"dataframe\">\n",
       "  <thead>\n",
       "    <tr style=\"text-align: right;\">\n",
       "      <th></th>\n",
       "      <th>ID</th>\n",
       "      <th>shop_id</th>\n",
       "      <th>item_id</th>\n",
       "    </tr>\n",
       "  </thead>\n",
       "  <tbody>\n",
       "    <tr>\n",
       "      <th>0</th>\n",
       "      <td>0</td>\n",
       "      <td>5</td>\n",
       "      <td>5037</td>\n",
       "    </tr>\n",
       "    <tr>\n",
       "      <th>1</th>\n",
       "      <td>1</td>\n",
       "      <td>5</td>\n",
       "      <td>5320</td>\n",
       "    </tr>\n",
       "    <tr>\n",
       "      <th>2</th>\n",
       "      <td>2</td>\n",
       "      <td>5</td>\n",
       "      <td>5233</td>\n",
       "    </tr>\n",
       "    <tr>\n",
       "      <th>3</th>\n",
       "      <td>3</td>\n",
       "      <td>5</td>\n",
       "      <td>5232</td>\n",
       "    </tr>\n",
       "    <tr>\n",
       "      <th>4</th>\n",
       "      <td>4</td>\n",
       "      <td>5</td>\n",
       "      <td>5268</td>\n",
       "    </tr>\n",
       "  </tbody>\n",
       "</table>\n",
       "</div>"
      ],
      "text/plain": [
       "   ID  shop_id  item_id\n",
       "0   0        5     5037\n",
       "1   1        5     5320\n",
       "2   2        5     5233\n",
       "3   3        5     5232\n",
       "4   4        5     5268"
      ]
     },
     "execution_count": 20,
     "metadata": {},
     "output_type": "execute_result"
    }
   ],
   "source": [
    "test.head()"
   ]
  },
  {
   "cell_type": "code",
   "execution_count": 21,
   "metadata": {},
   "outputs": [
    {
     "name": "stdout",
     "output_type": "stream",
     "text": [
      "<class 'pandas.core.frame.DataFrame'>\n",
      "RangeIndex: 214200 entries, 0 to 214199\n",
      "Data columns (total 3 columns):\n",
      "ID         214200 non-null int32\n",
      "shop_id    214200 non-null int32\n",
      "item_id    214200 non-null int32\n",
      "dtypes: int32(3)\n",
      "memory usage: 2.5 MB\n"
     ]
    }
   ],
   "source": [
    "test.info()"
   ]
  },
  {
   "cell_type": "code",
   "execution_count": 22,
   "metadata": {},
   "outputs": [
    {
     "data": {
      "text/html": [
       "<div>\n",
       "<style scoped>\n",
       "    .dataframe tbody tr th:only-of-type {\n",
       "        vertical-align: middle;\n",
       "    }\n",
       "\n",
       "    .dataframe tbody tr th {\n",
       "        vertical-align: top;\n",
       "    }\n",
       "\n",
       "    .dataframe thead th {\n",
       "        text-align: right;\n",
       "    }\n",
       "</style>\n",
       "<table border=\"1\" class=\"dataframe\">\n",
       "  <thead>\n",
       "    <tr style=\"text-align: right;\">\n",
       "      <th></th>\n",
       "      <th>count</th>\n",
       "      <th>unique</th>\n",
       "      <th>top</th>\n",
       "      <th>freq</th>\n",
       "    </tr>\n",
       "  </thead>\n",
       "  <tbody>\n",
       "    <tr>\n",
       "      <th>item_id</th>\n",
       "      <td>214200</td>\n",
       "      <td>5100</td>\n",
       "      <td>22167</td>\n",
       "      <td>42</td>\n",
       "    </tr>\n",
       "    <tr>\n",
       "      <th>shop_id</th>\n",
       "      <td>214200</td>\n",
       "      <td>42</td>\n",
       "      <td>59</td>\n",
       "      <td>5100</td>\n",
       "    </tr>\n",
       "  </tbody>\n",
       "</table>\n",
       "</div>"
      ],
      "text/plain": [
       "          count  unique    top  freq\n",
       "item_id  214200    5100  22167    42\n",
       "shop_id  214200      42     59  5100"
      ]
     },
     "execution_count": 22,
     "metadata": {},
     "output_type": "execute_result"
    }
   ],
   "source": [
    "pd.DataFrame({'shop_id': pd.Series(pd.Categorical(test['shop_id'])),\n",
    "              'item_id': pd.Series(pd.Categorical(test['item_id']))\n",
    "             }).describe().T"
   ]
  },
  {
   "cell_type": "markdown",
   "metadata": {},
   "source": [
    "In the test set we only have to predict sales only for 42 different shops and 5100 different items."
   ]
  },
  {
   "cell_type": "code",
   "execution_count": 23,
   "metadata": {},
   "outputs": [
    {
     "data": {
      "text/plain": [
       "363"
      ]
     },
     "execution_count": 23,
     "metadata": {},
     "output_type": "execute_result"
    }
   ],
   "source": [
    "len(set(test['item_id']) - set(transactions['item_id']))"
   ]
  },
  {
   "cell_type": "code",
   "execution_count": 24,
   "metadata": {},
   "outputs": [
    {
     "data": {
      "text/plain": [
       "0"
      ]
     },
     "execution_count": 24,
     "metadata": {},
     "output_type": "execute_result"
    }
   ],
   "source": [
    "len(set(test['shop_id']) - set(transactions['shop_id']))"
   ]
  },
  {
   "cell_type": "markdown",
   "metadata": {},
   "source": [
    "Some items in the training data are part of the test data."
   ]
  },
  {
   "cell_type": "markdown",
   "metadata": {},
   "source": [
    "# Aggregate data"
   ]
  },
  {
   "cell_type": "markdown",
   "metadata": {},
   "source": [
    "We need to aggragate the data, because our data is on daily basis but we want to predict the sales for an entire month."
   ]
  },
  {
   "cell_type": "code",
   "execution_count": 25,
   "metadata": {},
   "outputs": [
    {
     "name": "stderr",
     "output_type": "stream",
     "text": [
      "/home/florian/anaconda3/envs/pytorch/lib/python3.5/site-packages/pandas/core/groupby.py:4291: FutureWarning: using a dict with renaming is deprecated and will be removed in a future version\n",
      "  return super(DataFrameGroupBy, self).aggregate(arg, *args, **kwargs)\n"
     ]
    }
   ],
   "source": [
    "index_cols = ['shop_id', 'item_id', 'date_block_num']\n",
    "\n",
    "# For every month we create a grid from all shops/items combinations from that month\n",
    "grid = [] \n",
    "for block_num in transactions['date_block_num'].unique():\n",
    "    cur_shops = transactions[transactions['date_block_num']==block_num]['shop_id'].unique()\n",
    "    cur_items = transactions[transactions['date_block_num']==block_num]['item_id'].unique()\n",
    "    grid.append(np.array(list(product(*[cur_shops, cur_items, [block_num]])), dtype='int32'))\n",
    "\n",
    "#turn the grid into pandas dataframe\n",
    "grid = pd.DataFrame(np.vstack(grid), columns = index_cols, dtype=np.int32)\n",
    "\n",
    "#get aggregated values for (shop_id, item_id, month)\n",
    "gb = transactions.groupby(index_cols, as_index=False).agg({'item_cnt_day':{'target':'sum'}})\n",
    "\n",
    "#fix column names\n",
    "gb.columns = [col[0] if col[-1]=='' else col[-1] for col in gb.columns.values]\n",
    "\n",
    "##join aggregated data to the grid\n",
    "all_data = pd.merge(grid, gb, how='left', on=index_cols).fillna(0)\n",
    "\n",
    "##sort the data\n",
    "all_data.sort_values(['date_block_num', 'shop_id', 'item_id'], inplace=True)\n",
    "\n",
    "## reset index\n",
    "all_data = all_data.reset_index(drop=True)\n",
    "\n",
    "# Merge with item categories\n",
    "all_data = pd.merge(all_data, items[['item_category_id', 'item_id']], on='item_id', how='left')"
   ]
  },
  {
   "cell_type": "markdown",
   "metadata": {},
   "source": [
    "# Leaderboard Probing"
   ]
  },
  {
   "cell_type": "markdown",
   "metadata": {},
   "source": [
    "## Week2 predict from October "
   ]
  },
  {
   "cell_type": "code",
   "execution_count": 179,
   "metadata": {},
   "outputs": [],
   "source": [
    "oct_2015 = all_data[all_data['date_block_num'] == all_data['date_block_num'].max()]\n",
    "predictions = pd.merge(test, oct_2015, on=['shop_id', 'item_id'], how='left')\n",
    "predictions['target'].fillna(0, inplace=True)\n",
    "predictions.drop(['shop_id', 'item_id', 'date_block_num', 'item_category_id'], axis=1, inplace=True)\n",
    "predictions['target'] = predictions['target'].clip(0, 20)\n",
    "predictions = predictions.rename(columns={'target': 'item_cnt_month'})\n",
    "predictions.to_csv('submission.csv', index=False)"
   ]
  },
  {
   "cell_type": "markdown",
   "metadata": {},
   "source": [
    "## Same month year before\n",
    "That is date_block_num 22"
   ]
  },
  {
   "cell_type": "code",
   "execution_count": 180,
   "metadata": {},
   "outputs": [],
   "source": [
    "nov_2014 = all_data[all_data['date_block_num'] == 22]\n",
    "predictions = pd.merge(test, nov_2014, on=['shop_id', 'item_id'], how='left')\n",
    "predictions['target'].fillna(0, inplace=True)\n",
    "predictions.drop(['shop_id', 'item_id', 'date_block_num', 'item_category_id'], axis=1, inplace=True)\n",
    "predictions['target'] = predictions['target'].clip(0, 20)\n",
    "predictions = predictions.rename(columns={'target': 'item_cnt_month'})\n",
    "predictions.to_csv('submission.csv', index=False)"
   ]
  },
  {
   "cell_type": "markdown",
   "metadata": {},
   "source": [
    "# Prepare Data"
   ]
  },
  {
   "cell_type": "markdown",
   "metadata": {},
   "source": [
    "The train test split is time based.\n",
    "* Train: January 2013 - October 2015\n",
    "* Test : November 2015"
   ]
  },
  {
   "cell_type": "markdown",
   "metadata": {},
   "source": [
    "## Train"
   ]
  },
  {
   "cell_type": "code",
   "execution_count": 27,
   "metadata": {},
   "outputs": [],
   "source": [
    "train = all_data.copy()"
   ]
  },
  {
   "cell_type": "code",
   "execution_count": 28,
   "metadata": {},
   "outputs": [],
   "source": [
    "## Sold items from month before\n",
    "blocks = []\n",
    "\n",
    "# Because the first date_block_num hast no predcessor\n",
    "# we take the same month a year later block 11 this is\n",
    "# December 2014\n",
    "pred_block  = train[train['date_block_num'] == 11].drop(['item_category_id', 'date_block_num'], axis=1)\n",
    "first_block = train[train['date_block_num'] == 0].drop(['item_category_id', 'target'], axis=1)\n",
    "blocks.append(pd.merge(first_block, pred_block, how='left'))\n",
    "\n",
    "for block_num in train['date_block_num'].unique():\n",
    "    if block_num == 0:\n",
    "        continue\n",
    "    \n",
    "    pred_block_num = block_num - 1\n",
    "    \n",
    "    # Select blocks and drop unneccessary columns\n",
    "    pred_block     = train[train['date_block_num'] == pred_block_num].drop(\n",
    "        ['item_category_id', 'date_block_num'], axis=1)\n",
    "    current_block  = train[train['date_block_num'] == block_num].drop(\n",
    "        ['item_category_id', 'target'], axis=1)\n",
    "    \n",
    "    blocks.append(pd.merge(current_block, pred_block, how='left'))\n",
    "    \n",
    "pred_month_sales = pd.concat(blocks)\n",
    "pred_month_sales = pred_month_sales.rename(columns={'target': 'pred_month_sales'})\n",
    "\n",
    "# Fill upcoming na with zero because there is no sale\n",
    "pred_month_sales['pred_month_sales'].fillna(0, inplace=True)\n",
    "\n",
    "assert len(pred_month_sales) == len(train)\n",
    "\n",
    "# Merge into trainset\n",
    "train = pd.merge(train, pred_month_sales, on=['shop_id', 'item_id', 'date_block_num'])"
   ]
  },
  {
   "cell_type": "code",
   "execution_count": 29,
   "metadata": {},
   "outputs": [],
   "source": [
    "## Date block as month\n",
    "train.loc[train['date_block_num'] == 0, 'month'] = 1\n",
    "train.loc[train['date_block_num'] == 1, 'month'] = 2\n",
    "train.loc[train['date_block_num'] == 2, 'month'] = 3\n",
    "train.loc[train['date_block_num'] == 3, 'month'] = 4\n",
    "train.loc[train['date_block_num'] == 4, 'month'] = 5\n",
    "train.loc[train['date_block_num'] == 5, 'month'] = 6\n",
    "train.loc[train['date_block_num'] == 6, 'month'] = 7\n",
    "train.loc[train['date_block_num'] == 7, 'month'] = 8\n",
    "train.loc[train['date_block_num'] == 8, 'month'] = 9\n",
    "train.loc[train['date_block_num'] == 9, 'month'] = 10\n",
    "train.loc[train['date_block_num'] == 10, 'month'] = 11\n",
    "train.loc[train['date_block_num'] == 11, 'month'] = 12\n",
    "train.loc[train['date_block_num'] == 12, 'month'] = 1\n",
    "train.loc[train['date_block_num'] == 13, 'month'] = 2\n",
    "train.loc[train['date_block_num'] == 14, 'month'] = 3\n",
    "train.loc[train['date_block_num'] == 15, 'month'] = 4\n",
    "train.loc[train['date_block_num'] == 16, 'month'] = 5\n",
    "train.loc[train['date_block_num'] == 17, 'month'] = 6\n",
    "train.loc[train['date_block_num'] == 18, 'month'] = 7\n",
    "train.loc[train['date_block_num'] == 19, 'month'] = 8\n",
    "train.loc[train['date_block_num'] == 20, 'month'] = 9\n",
    "train.loc[train['date_block_num'] == 21, 'month'] = 10\n",
    "train.loc[train['date_block_num'] == 22, 'month'] = 11\n",
    "train.loc[train['date_block_num'] == 23, 'month'] = 12\n",
    "train.loc[train['date_block_num'] == 24, 'month'] = 1\n",
    "train.loc[train['date_block_num'] == 25, 'month'] = 2\n",
    "train.loc[train['date_block_num'] == 26, 'month'] = 3\n",
    "train.loc[train['date_block_num'] == 27, 'month'] = 4\n",
    "train.loc[train['date_block_num'] == 28, 'month'] = 5\n",
    "train.loc[train['date_block_num'] == 29, 'month'] = 6\n",
    "train.loc[train['date_block_num'] == 30, 'month'] = 7\n",
    "train.loc[train['date_block_num'] == 31, 'month'] = 8\n",
    "train.loc[train['date_block_num'] == 32, 'month'] = 9\n",
    "train.loc[train['date_block_num'] == 33, 'month'] = 10"
   ]
  },
  {
   "cell_type": "code",
   "execution_count": 30,
   "metadata": {},
   "outputs": [],
   "source": [
    "## Mean Encode (Expanding Mean)\n",
    "\n",
    "# Items\n",
    "cumsum = train.groupby('item_id')['target'].cumsum() - train['target']\n",
    "cumcnt = train.groupby('item_id').cumcount()\n",
    "train['item_id_mean_target'] = cumsum/cumcnt\n",
    "train['item_id_mean_target'] = train.groupby('item_id')['item_id_mean_target'].transform(\n",
    "                                                                                lambda x: x.fillna(x.mean()))\n",
    "# Item Categories\n",
    "cumsum = train.groupby('item_category_id')['target'].cumsum() - train['target']\n",
    "cumcnt = train.groupby('item_category_id').cumcount()\n",
    "train['item_category_id_mean_target'] = cumsum/cumcnt\n",
    "train['item_category_id_mean_target'] = train.groupby('item_category_id')['item_category_id_mean_target'].transform(\n",
    "                                                                                lambda x: x.fillna(x.mean()))\n",
    "# Shops\n",
    "cumsum = train.groupby('shop_id')['target'].cumsum() - train['target']\n",
    "cumcnt = train.groupby('shop_id').cumcount()\n",
    "train['shop_id_mean_target'] = cumsum/cumcnt\n",
    "train['shop_id_mean_target'] = train.groupby('shop_id')['shop_id_mean_target'].transform(\n",
    "                                                                                lambda x: x.fillna(x.mean()))"
   ]
  },
  {
   "cell_type": "code",
   "execution_count": 28,
   "metadata": {
    "deletable": false,
    "editable": false,
    "run_control": {
     "frozen": true
    }
   },
   "outputs": [],
   "source": [
    "# Save training data\n",
    "train.to_csv(os.path.join(DATA_FOLDER, 'train.csv'), index=False)"
   ]
  },
  {
   "cell_type": "markdown",
   "metadata": {},
   "source": [
    "## Test"
   ]
  },
  {
   "cell_type": "code",
   "execution_count": 31,
   "metadata": {},
   "outputs": [],
   "source": [
    "test_enc = test.copy()"
   ]
  },
  {
   "cell_type": "code",
   "execution_count": 32,
   "metadata": {},
   "outputs": [],
   "source": [
    "## Sold items from month before\n",
    "\n",
    "oct_2015 = all_data[all_data['date_block_num'] == all_data['date_block_num'].max()]\n",
    "oct_2015 = pd.merge(test_enc.drop('ID', axis=1), \n",
    "                    oct_2015.drop(['item_category_id', 'date_block_num'], axis=1), on=['shop_id', 'item_id'], how='left')\n",
    "oct_2015['target'].fillna(0, inplace=True)\n",
    "oct_2015 = oct_2015.rename(columns={'target': 'pred_month_sales'})\n",
    "#\n",
    "test_enc = pd.merge(test_enc, oct_2015, on=['item_id', 'shop_id'])"
   ]
  },
  {
   "cell_type": "code",
   "execution_count": 33,
   "metadata": {},
   "outputs": [],
   "source": [
    "## Get category ids\n",
    "\n",
    "test_enc = pd.merge(test_enc, items.drop(['item_name'], axis=1), on='item_id', how='left')"
   ]
  },
  {
   "cell_type": "code",
   "execution_count": 34,
   "metadata": {},
   "outputs": [],
   "source": [
    "## Add date block\n",
    "test_enc['date_block_num'] = 34"
   ]
  },
  {
   "cell_type": "code",
   "execution_count": 35,
   "metadata": {},
   "outputs": [],
   "source": [
    "## Dateblock as month\n",
    "\n",
    "test_enc['month'] = 11"
   ]
  },
  {
   "cell_type": "code",
   "execution_count": 36,
   "metadata": {},
   "outputs": [],
   "source": [
    "## Mean Encode (Expanding Mean)\n",
    "## We average the group mean encoding in the training data\n",
    "## to calcualte mean encodings for the test data\n",
    "\n",
    "# Items\n",
    "avg_item_id_mean_target = train.groupby('item_id')['item_id_mean_target'].mean().reset_index()\n",
    "test_enc = pd.merge(test_enc, avg_item_id_mean_target, on='item_id', how='left')\n",
    "test_enc['item_id_mean_target'] = test_enc.groupby('item_id')['item_id_mean_target'].transform(\n",
    "                                                                                lambda x: x.fillna(x.mean()))\n",
    "#Because some items in the test data are not in the training data at all we fill them by the mean\n",
    "#of the item_id encoding\n",
    "test_enc['item_id_mean_target'] = train.groupby('item_category_id')['item_id_mean_target'].transform(\n",
    "                                                                                lambda x: x.fillna(x.mean()))\n",
    "\n",
    "# Item Categories\n",
    "avg_item_category_id_mean_target = train.groupby('item_category_id')['item_category_id_mean_target'].mean().reset_index()\n",
    "test_enc = pd.merge(test_enc, avg_item_category_id_mean_target, on='item_category_id', how='left')\n",
    "test_enc['item_category_id_mean_target'] = test_enc.groupby('item_category_id')['item_category_id_mean_target'].transform(\n",
    "                                                                                lambda x: x.fillna(x.mean()))\n",
    "# Shops\n",
    "avg_shop_id_mean_target = train.groupby('shop_id')['shop_id_mean_target'].mean().reset_index()\n",
    "test_enc = pd.merge(test_enc, avg_shop_id_mean_target, on='shop_id', how='left')\n",
    "test_enc['shop_id_mean_target'] = test_enc.groupby('shop_id')['shop_id_mean_target'].transform(\n",
    "                                                                                lambda x: x.fillna(x.mean()))"
   ]
  },
  {
   "cell_type": "code",
   "execution_count": 37,
   "metadata": {},
   "outputs": [],
   "source": [
    "# Order columns\n",
    "test_enc = test_enc[['ID', 'shop_id', 'item_id', 'date_block_num', 'item_category_id', \n",
    "                     'pred_month_sales', 'month', 'item_id_mean_target', 'item_category_id_mean_target', \n",
    "                     'shop_id_mean_target']]"
   ]
  },
  {
   "cell_type": "code",
   "execution_count": null,
   "metadata": {
    "deletable": false,
    "editable": false,
    "run_control": {
     "frozen": true
    }
   },
   "outputs": [],
   "source": [
    "# Store encoded test data\n",
    "test_enc.to_csv('../readonly/final_project_data/test_enc.csv', index=False)"
   ]
  },
  {
   "cell_type": "markdown",
   "metadata": {},
   "source": [
    "# Models"
   ]
  },
  {
   "cell_type": "code",
   "execution_count": 38,
   "metadata": {},
   "outputs": [],
   "source": [
    "# Submission scirpt\n",
    "def create_sub_file(ids, predictions):\n",
    "    df_sub = pd.DataFrame()\n",
    "    df_sub['ID'] = ids\n",
    "    df_sub['item_cnt_month'] = predictions\n",
    "    df_sub.to_csv('submission.csv', index=False)\n",
    "    return df_sub"
   ]
  },
  {
   "cell_type": "markdown",
   "metadata": {},
   "source": [
    "###### Simple Holdout Scheme"
   ]
  },
  {
   "cell_type": "code",
   "execution_count": 101,
   "metadata": {},
   "outputs": [],
   "source": [
    "random_state = 2510\n",
    "\n",
    "# Train\n",
    "X = train.drop(['target'], axis=1).copy()\n",
    "y = train['target'].copy()\n",
    "y[y < 0] = 0\n",
    "X = X.sample(frac=1).reset_index(drop=True)\n",
    "\n",
    "partA = X[:3637432]\n",
    "partB = X[3637432:7274864]\n",
    "partC = X[7274864:]\n",
    "partA_y = y[:3637432]\n",
    "partB_y = y[3637432:7274864]\n",
    "partC_y = y[7274864:]\n",
    "\n",
    "## Test\n",
    "test_data = test_enc.drop(['ID'], axis=1)"
   ]
  },
  {
   "cell_type": "markdown",
   "metadata": {},
   "source": [
    "## Base Level"
   ]
  },
  {
   "cell_type": "markdown",
   "metadata": {},
   "source": [
    "### Random Forest Regressor"
   ]
  },
  {
   "cell_type": "code",
   "execution_count": 102,
   "metadata": {
    "deletable": false,
    "editable": false,
    "run_control": {
     "frozen": true
    }
   },
   "outputs": [],
   "source": [
    "base1 = RandomForestRegressor(n_estimators=100, max_depth=6, min_samples_split=20, min_samples_leaf=20, n_jobs=-1)\n",
    "base1.fit(partA, partA_y)\n",
    "\n",
    "# Save model\n",
    "pickle.dump(base1, open('models/base/base1.pickle.dat', 'wb'))"
   ]
  },
  {
   "cell_type": "code",
   "execution_count": 103,
   "metadata": {},
   "outputs": [],
   "source": [
    "# Load model\n",
    "base1 = pickle.load(open('models/base/base1.pickle.dat', 'rb'))"
   ]
  },
  {
   "cell_type": "code",
   "execution_count": 104,
   "metadata": {
    "deletable": false,
    "editable": false,
    "run_control": {
     "frozen": true
    }
   },
   "outputs": [
    {
     "name": "stdout",
     "output_type": "stream",
     "text": [
      "PartB error: 1.42671112461\n",
      "PartC error: 1.36812483936\n"
     ]
    }
   ],
   "source": [
    "print('PartB error:', np.sqrt(mean_squared_error(partB_y, base1.predict(partB))))\n",
    "print('PartC error:', np.sqrt(mean_squared_error(partC_y, base1.predict(partC))))"
   ]
  },
  {
   "cell_type": "markdown",
   "metadata": {},
   "source": [
    "### XGBoost Regressor"
   ]
  },
  {
   "cell_type": "code",
   "execution_count": 105,
   "metadata": {
    "deletable": false,
    "editable": false,
    "run_control": {
     "frozen": true
    },
    "scrolled": true
   },
   "outputs": [
    {
     "name": "stdout",
     "output_type": "stream",
     "text": [
      "[0]\tpartA-rmse:1.37786\tpartB-rmse:1.4377\tpartC-rmse:1.38079\n",
      "Multiple eval metrics have been passed: 'partC-rmse' will be used for early stopping.\n",
      "\n",
      "Will train until partC-rmse hasn't improved in 25 rounds.\n",
      "[1]\tpartA-rmse:1.37574\tpartB-rmse:1.43564\tpartC-rmse:1.37854\n",
      "[2]\tpartA-rmse:1.37404\tpartB-rmse:1.43399\tpartC-rmse:1.3767\n",
      "[3]\tpartA-rmse:1.37265\tpartB-rmse:1.43263\tpartC-rmse:1.37519\n",
      "[4]\tpartA-rmse:1.37153\tpartB-rmse:1.43154\tpartC-rmse:1.37397\n",
      "[5]\tpartA-rmse:1.37062\tpartB-rmse:1.43065\tpartC-rmse:1.37295\n",
      "[6]\tpartA-rmse:1.36988\tpartB-rmse:1.42992\tpartC-rmse:1.37212\n",
      "[7]\tpartA-rmse:1.36927\tpartB-rmse:1.42933\tpartC-rmse:1.37144\n",
      "[8]\tpartA-rmse:1.36878\tpartB-rmse:1.42885\tpartC-rmse:1.37088\n",
      "[9]\tpartA-rmse:1.36838\tpartB-rmse:1.42846\tpartC-rmse:1.37042\n",
      "[10]\tpartA-rmse:1.36805\tpartB-rmse:1.42814\tpartC-rmse:1.37004\n",
      "[11]\tpartA-rmse:1.36778\tpartB-rmse:1.42789\tpartC-rmse:1.36973\n",
      "[12]\tpartA-rmse:1.36756\tpartB-rmse:1.42767\tpartC-rmse:1.36947\n",
      "[13]\tpartA-rmse:1.36738\tpartB-rmse:1.4275\tpartC-rmse:1.36926\n",
      "[14]\tpartA-rmse:1.36724\tpartB-rmse:1.42736\tpartC-rmse:1.36908\n",
      "[15]\tpartA-rmse:1.36712\tpartB-rmse:1.42725\tpartC-rmse:1.36893\n",
      "[16]\tpartA-rmse:1.36703\tpartB-rmse:1.42716\tpartC-rmse:1.36881\n",
      "[17]\tpartA-rmse:1.36695\tpartB-rmse:1.42708\tpartC-rmse:1.36871\n",
      "[18]\tpartA-rmse:1.36687\tpartB-rmse:1.42702\tpartC-rmse:1.36862\n",
      "[19]\tpartA-rmse:1.36681\tpartB-rmse:1.42697\tpartC-rmse:1.36855\n",
      "[20]\tpartA-rmse:1.36677\tpartB-rmse:1.42693\tpartC-rmse:1.3685\n",
      "[21]\tpartA-rmse:1.36672\tpartB-rmse:1.42689\tpartC-rmse:1.36844\n",
      "[22]\tpartA-rmse:1.36669\tpartB-rmse:1.42687\tpartC-rmse:1.3684\n",
      "[23]\tpartA-rmse:1.36666\tpartB-rmse:1.42684\tpartC-rmse:1.36837\n",
      "[24]\tpartA-rmse:1.36664\tpartB-rmse:1.42683\tpartC-rmse:1.36834\n",
      "[25]\tpartA-rmse:1.36662\tpartB-rmse:1.42681\tpartC-rmse:1.36831\n",
      "[26]\tpartA-rmse:1.36661\tpartB-rmse:1.4268\tpartC-rmse:1.36829\n",
      "[27]\tpartA-rmse:1.36659\tpartB-rmse:1.42679\tpartC-rmse:1.36827\n",
      "[28]\tpartA-rmse:1.36658\tpartB-rmse:1.42678\tpartC-rmse:1.36825\n",
      "[29]\tpartA-rmse:1.36657\tpartB-rmse:1.42677\tpartC-rmse:1.36824\n",
      "[30]\tpartA-rmse:1.36655\tpartB-rmse:1.42677\tpartC-rmse:1.36823\n",
      "[31]\tpartA-rmse:1.36654\tpartB-rmse:1.42677\tpartC-rmse:1.36822\n",
      "[32]\tpartA-rmse:1.36653\tpartB-rmse:1.42676\tpartC-rmse:1.36821\n",
      "[33]\tpartA-rmse:1.36652\tpartB-rmse:1.42676\tpartC-rmse:1.3682\n",
      "[34]\tpartA-rmse:1.36651\tpartB-rmse:1.42675\tpartC-rmse:1.3682\n",
      "[35]\tpartA-rmse:1.3665\tpartB-rmse:1.42675\tpartC-rmse:1.36819\n",
      "[36]\tpartA-rmse:1.36649\tpartB-rmse:1.42675\tpartC-rmse:1.36818\n",
      "[37]\tpartA-rmse:1.36648\tpartB-rmse:1.42675\tpartC-rmse:1.36818\n",
      "[38]\tpartA-rmse:1.36646\tpartB-rmse:1.42675\tpartC-rmse:1.36818\n",
      "[39]\tpartA-rmse:1.36645\tpartB-rmse:1.42675\tpartC-rmse:1.36818\n",
      "[40]\tpartA-rmse:1.36644\tpartB-rmse:1.42675\tpartC-rmse:1.36817\n",
      "[41]\tpartA-rmse:1.36643\tpartB-rmse:1.42675\tpartC-rmse:1.36817\n",
      "[42]\tpartA-rmse:1.36643\tpartB-rmse:1.42675\tpartC-rmse:1.36817\n",
      "[43]\tpartA-rmse:1.36642\tpartB-rmse:1.42675\tpartC-rmse:1.36817\n",
      "[44]\tpartA-rmse:1.36641\tpartB-rmse:1.42675\tpartC-rmse:1.36817\n",
      "[45]\tpartA-rmse:1.3664\tpartB-rmse:1.42675\tpartC-rmse:1.36816\n",
      "[46]\tpartA-rmse:1.36639\tpartB-rmse:1.42675\tpartC-rmse:1.36817\n",
      "[47]\tpartA-rmse:1.36639\tpartB-rmse:1.42675\tpartC-rmse:1.36817\n",
      "[48]\tpartA-rmse:1.36638\tpartB-rmse:1.42675\tpartC-rmse:1.36816\n",
      "[49]\tpartA-rmse:1.36637\tpartB-rmse:1.42675\tpartC-rmse:1.36816\n",
      "[50]\tpartA-rmse:1.36637\tpartB-rmse:1.42675\tpartC-rmse:1.36816\n",
      "[51]\tpartA-rmse:1.36637\tpartB-rmse:1.42675\tpartC-rmse:1.36816\n",
      "[52]\tpartA-rmse:1.36637\tpartB-rmse:1.42675\tpartC-rmse:1.36816\n",
      "[53]\tpartA-rmse:1.36636\tpartB-rmse:1.42675\tpartC-rmse:1.36816\n",
      "[54]\tpartA-rmse:1.36635\tpartB-rmse:1.42675\tpartC-rmse:1.36816\n",
      "[55]\tpartA-rmse:1.36634\tpartB-rmse:1.42675\tpartC-rmse:1.36816\n",
      "[56]\tpartA-rmse:1.36633\tpartB-rmse:1.42675\tpartC-rmse:1.36816\n",
      "[57]\tpartA-rmse:1.36632\tpartB-rmse:1.42675\tpartC-rmse:1.36816\n",
      "[58]\tpartA-rmse:1.36631\tpartB-rmse:1.42676\tpartC-rmse:1.36816\n",
      "[59]\tpartA-rmse:1.36631\tpartB-rmse:1.42676\tpartC-rmse:1.36817\n",
      "[60]\tpartA-rmse:1.3663\tpartB-rmse:1.42676\tpartC-rmse:1.36817\n",
      "[61]\tpartA-rmse:1.36629\tpartB-rmse:1.42676\tpartC-rmse:1.36817\n",
      "[62]\tpartA-rmse:1.36628\tpartB-rmse:1.42676\tpartC-rmse:1.36817\n",
      "[63]\tpartA-rmse:1.36627\tpartB-rmse:1.42676\tpartC-rmse:1.36817\n",
      "[64]\tpartA-rmse:1.36626\tpartB-rmse:1.42676\tpartC-rmse:1.36817\n",
      "[65]\tpartA-rmse:1.36626\tpartB-rmse:1.42676\tpartC-rmse:1.36817\n",
      "[66]\tpartA-rmse:1.36625\tpartB-rmse:1.42676\tpartC-rmse:1.36817\n",
      "[67]\tpartA-rmse:1.36624\tpartB-rmse:1.42677\tpartC-rmse:1.36817\n",
      "[68]\tpartA-rmse:1.36624\tpartB-rmse:1.42677\tpartC-rmse:1.36817\n",
      "[69]\tpartA-rmse:1.36622\tpartB-rmse:1.42676\tpartC-rmse:1.36817\n",
      "[70]\tpartA-rmse:1.36621\tpartB-rmse:1.42677\tpartC-rmse:1.36817\n",
      "[71]\tpartA-rmse:1.3662\tpartB-rmse:1.42677\tpartC-rmse:1.36817\n",
      "[72]\tpartA-rmse:1.36619\tpartB-rmse:1.42677\tpartC-rmse:1.36818\n",
      "[73]\tpartA-rmse:1.36618\tpartB-rmse:1.42677\tpartC-rmse:1.36818\n",
      "[74]\tpartA-rmse:1.36617\tpartB-rmse:1.42677\tpartC-rmse:1.36818\n",
      "[75]\tpartA-rmse:1.36616\tpartB-rmse:1.42678\tpartC-rmse:1.36818\n",
      "Stopping. Best iteration:\n",
      "[50]\tpartA-rmse:1.36637\tpartB-rmse:1.42675\tpartC-rmse:1.36816\n",
      "\n"
     ]
    }
   ],
   "source": [
    "dtrain = xgb.DMatrix(partA.values, partA_y.values)\n",
    "dpartB = xgb.DMatrix(partB.values, partB_y.values)\n",
    "dpartC = xgb.DMatrix(partC.values, partC_y.values)\n",
    "\n",
    "param = {'silent':1, \n",
    "         'objective':'reg:linear', \n",
    "         'eval_metric':'rmse',\n",
    "         'colsample_bytree':0.7,\n",
    "         'subsample':0.7,\n",
    "         'min_child_weight':20,\n",
    "         'max_depth':5,\n",
    "         'eta':0.1}\n",
    "\n",
    "watchlist = [(dtrain, 'partA'), (dpartB, 'partB'), (dpartC, 'partC')]\n",
    "base2 = xgb.train(param, dtrain, 300, watchlist, maximize=False, early_stopping_rounds=25)\n",
    "\n",
    "# Save model\n",
    "pickle.dump(base2, open('models/base/base2.pickle.dat', 'wb'))"
   ]
  },
  {
   "cell_type": "code",
   "execution_count": 106,
   "metadata": {},
   "outputs": [],
   "source": [
    "# Load model\n",
    "base2 = pickle.load(open('models/base/base2.pickle.dat', 'rb'))"
   ]
  },
  {
   "cell_type": "code",
   "execution_count": 108,
   "metadata": {
    "deletable": false,
    "editable": false,
    "run_control": {
     "frozen": true
    }
   },
   "outputs": [
    {
     "name": "stdout",
     "output_type": "stream",
     "text": [
      "PartB error: 1.42677611905\n",
      "PartC error: 1.36818478947\n"
     ]
    }
   ],
   "source": [
    "print('PartB error:', np.sqrt(mean_squared_error(partB_y, base2.predict(xgb.DMatrix(partB.values)))))\n",
    "print('PartC error:', np.sqrt(mean_squared_error(partC_y, base2.predict(xgb.DMatrix(partC.values)))))"
   ]
  },
  {
   "cell_type": "markdown",
   "metadata": {},
   "source": [
    "### Neuronal Network"
   ]
  },
  {
   "cell_type": "code",
   "execution_count": 109,
   "metadata": {
    "deletable": false,
    "editable": false,
    "run_control": {
     "frozen": true
    }
   },
   "outputs": [
    {
     "name": "stdout",
     "output_type": "stream",
     "text": [
      "Train on 3637432 samples, validate on 3637432 samples\n",
      "Epoch 1/10\n",
      "3637432/3637432 [==============================] - 71s 19us/step - loss: 34472.5870 - val_loss: 209.8951\n",
      "Epoch 2/10\n",
      "3637432/3637432 [==============================] - 70s 19us/step - loss: 10.9908 - val_loss: 3.5143\n",
      "Epoch 3/10\n",
      "3637432/3637432 [==============================] - 70s 19us/step - loss: 9.9142 - val_loss: 3.8736\n",
      "Epoch 4/10\n",
      "3637432/3637432 [==============================] - 70s 19us/step - loss: 8.9516 - val_loss: 2.5732\n",
      "Epoch 5/10\n",
      "3637432/3637432 [==============================] - 69s 19us/step - loss: 8.3642 - val_loss: 2.0428\n",
      "Epoch 6/10\n",
      "3637432/3637432 [==============================] - 71s 19us/step - loss: 7.9063 - val_loss: 4.6432\n",
      "Epoch 7/10\n",
      "3637432/3637432 [==============================] - 72s 20us/step - loss: 7.3795 - val_loss: 6.2640\n",
      "Epoch 8/10\n",
      "3637432/3637432 [==============================] - 72s 20us/step - loss: 6.8357 - val_loss: 5.3722\n",
      "Epoch 9/10\n",
      "3637432/3637432 [==============================] - 70s 19us/step - loss: 6.4247 - val_loss: 5.6544\n",
      "Epoch 10/10\n",
      "3637432/3637432 [==============================] - 72s 20us/step - loss: 5.9678 - val_loss: 12.5906\n"
     ]
    }
   ],
   "source": [
    "def model():\n",
    "    model = Sequential()\n",
    "    model.add(Dense(32, input_dim=X_train.shape[1]))\n",
    "    model.add(Activation('relu'))\n",
    "    model.add(Dense(1))\n",
    "    model.compile(loss='mean_squared_error', optimizer='adam')\n",
    "    return model\n",
    "\n",
    "base3 = model()\n",
    "base3.fit(partA, partA_y, epochs=10, batch_size=100, validation_data=(partB, partB_y))\n",
    "\n",
    "# Save model\n",
    "base3.save('models/base/base3.h5')"
   ]
  },
  {
   "cell_type": "code",
   "execution_count": 110,
   "metadata": {},
   "outputs": [],
   "source": [
    "# Load model\n",
    "base3 = load_model('models/base/base3.h5')"
   ]
  },
  {
   "cell_type": "code",
   "execution_count": 111,
   "metadata": {
    "deletable": false,
    "editable": false,
    "run_control": {
     "frozen": true
    }
   },
   "outputs": [
    {
     "name": "stdout",
     "output_type": "stream",
     "text": [
      "Train error: 3.5613562684\n",
      "Test error: 3.56281573467\n"
     ]
    }
   ],
   "source": [
    "print('Train error:', np.sqrt(mean_squared_error(y_train, base3.predict(X_train))))\n",
    "print('Test error:', np.sqrt(mean_squared_error(y_val, base3.predict(X_val))))"
   ]
  },
  {
   "cell_type": "markdown",
   "metadata": {},
   "source": [
    "### Extra Trees Regressor"
   ]
  },
  {
   "cell_type": "code",
   "execution_count": 112,
   "metadata": {
    "deletable": false,
    "editable": false,
    "run_control": {
     "frozen": true
    }
   },
   "outputs": [],
   "source": [
    "base4 = ExtraTreesRegressor(n_jobs=-1)\n",
    "base4.fit(partA, partA_y)\n",
    "\n",
    "# Save model\n",
    "pickle.dump(base4, open('models/base/base4.pickle.dat', 'wb'))"
   ]
  },
  {
   "cell_type": "code",
   "execution_count": 113,
   "metadata": {},
   "outputs": [],
   "source": [
    "# Load model \n",
    "base4 = pickle.load(open('models/base/base4.pickle.dat', 'rb'))"
   ]
  },
  {
   "cell_type": "code",
   "execution_count": 114,
   "metadata": {
    "deletable": false,
    "editable": false,
    "run_control": {
     "frozen": true
    }
   },
   "outputs": [
    {
     "name": "stdout",
     "output_type": "stream",
     "text": [
      "Train error: 1.73296749072\n",
      "Test error: 1.7303005734\n"
     ]
    }
   ],
   "source": [
    "print('Train error:', np.sqrt(mean_squared_error(y_train, base4.predict(X_train))))\n",
    "print('Test error:', np.sqrt(mean_squared_error(y_val, base4.predict(X_val))))"
   ]
  },
  {
   "cell_type": "markdown",
   "metadata": {},
   "source": [
    "Train error of 0 is a little bit strange."
   ]
  },
  {
   "cell_type": "markdown",
   "metadata": {},
   "source": [
    "## Second Level"
   ]
  },
  {
   "cell_type": "code",
   "execution_count": 135,
   "metadata": {},
   "outputs": [],
   "source": [
    "partB_meta = []\n",
    "partB_meta.append(base1.predict(partB))\n",
    "partB_meta.append(base2.predict(xgb.DMatrix(partB.values)))\n",
    "partB_meta.append(np.squeeze(base3.predict(partB)))\n",
    "partB_meta.append(base4.predict(partB))\n",
    "partB_meta = np.stack(partB_meta, axis=1)\n",
    "\n",
    "partC_meta = []\n",
    "partC_meta.append(base1.predict(partC))\n",
    "partC_meta.append(base2.predict(xgb.DMatrix(partC.values)))\n",
    "partC_meta.append(np.squeeze(base3.predict(partC)))\n",
    "partC_meta.append(base4.predict(partC))\n",
    "partC_meta = np.stack(partC_meta, axis=1)\n",
    "\n",
    "test_meta = []\n",
    "test_meta.append(base1.predict(partC))\n",
    "test_meta.append(base2.predict(xgb.DMatrix(partC.values)))\n",
    "test_meta.append(np.squeeze(base3.predict(partC)))\n",
    "test_meta.append(base4.predict(partC))\n",
    "test_meta = np.stack(test_meta, axis=1)"
   ]
  },
  {
   "cell_type": "code",
   "execution_count": 156,
   "metadata": {},
   "outputs": [],
   "source": [
    "partBC_meta   = np.concatenate([partB_meta, partC_meta])\n",
    "partBC_meta_y = np.concatenate([partB_y, partC_y])"
   ]
  },
  {
   "cell_type": "code",
   "execution_count": 142,
   "metadata": {},
   "outputs": [
    {
     "data": {
      "text/plain": [
       "RandomForestRegressor(bootstrap=True, criterion='mse', max_depth=15,\n",
       "           max_features='auto', max_leaf_nodes=None,\n",
       "           min_impurity_decrease=0.0, min_impurity_split=None,\n",
       "           min_samples_leaf=10, min_samples_split=10,\n",
       "           min_weight_fraction_leaf=0.0, n_estimators=20, n_jobs=-1,\n",
       "           oob_score=False, random_state=None, verbose=0, warm_start=False)"
      ]
     },
     "execution_count": 142,
     "metadata": {},
     "output_type": "execute_result"
    }
   ],
   "source": [
    "# Validation\n",
    "metamodel = RandomForestRegressor(n_estimators=20, max_depth=15, min_samples_split=10, \n",
    "                                  min_samples_leaf=10, n_jobs=-1)\n",
    "metamodel.fit(partB_meta, partB_y)\n",
    "\n",
    "# Save model\n",
    "pickle.dump(metamodel, open('models/meta/meta.pickle.dat', 'wb'))"
   ]
  },
  {
   "cell_type": "code",
   "execution_count": 157,
   "metadata": {},
   "outputs": [
    {
     "name": "stdout",
     "output_type": "stream",
     "text": [
      "PartB_meat error: 1.42270870633\n",
      "PartC_meta error: 1.36841271186\n"
     ]
    }
   ],
   "source": [
    "print('PartB_meat error:', np.sqrt(mean_squared_error(partB_y, metamodel.predict(partB_meta))))\n",
    "print('PartC_meta error:', np.sqrt(mean_squared_error(partC_y, metamodel.predict(partC_meta))))"
   ]
  },
  {
   "cell_type": "code",
   "execution_count": 158,
   "metadata": {},
   "outputs": [
    {
     "data": {
      "text/plain": [
       "RandomForestRegressor(bootstrap=True, criterion='mse', max_depth=15,\n",
       "           max_features='auto', max_leaf_nodes=None,\n",
       "           min_impurity_decrease=0.0, min_impurity_split=None,\n",
       "           min_samples_leaf=10, min_samples_split=10,\n",
       "           min_weight_fraction_leaf=0.0, n_estimators=20, n_jobs=-1,\n",
       "           oob_score=False, random_state=None, verbose=0, warm_start=False)"
      ]
     },
     "execution_count": 158,
     "metadata": {},
     "output_type": "execute_result"
    }
   ],
   "source": [
    "# Final training\n",
    "metamodel.fit(partBC_meta, partBC_meta_y)"
   ]
  },
  {
   "cell_type": "code",
   "execution_count": 159,
   "metadata": {},
   "outputs": [
    {
     "name": "stdout",
     "output_type": "stream",
     "text": [
      "PartB_meat error: 1.4247517246\n",
      "PartC_meta error: 1.36637680433\n"
     ]
    }
   ],
   "source": [
    "print('PartB_meat error:', np.sqrt(mean_squared_error(partB_y, metamodel.predict(partB_meta))))\n",
    "print('PartC_meta error:', np.sqrt(mean_squared_error(partC_y, metamodel.predict(partC_meta))))"
   ]
  },
  {
   "cell_type": "code",
   "execution_count": 182,
   "metadata": {},
   "outputs": [],
   "source": [
    "# Predict on test\n",
    "create_sub_file(test_enc['ID'], metamodel.predict(test_meta)).to_csv('submission.csv', index=False)"
   ]
  },
  {
   "cell_type": "markdown",
   "metadata": {},
   "source": [
    "# Conclusion"
   ]
  },
  {
   "cell_type": "markdown",
   "metadata": {},
   "source": [
    "It was a very iterresting competition, but next time I will calculate more time for the next time.\n",
    "\n",
    "Features:\n",
    "* The sales of the previous month are very predictive\n",
    "* Mean encoding gave also a great improvement in the score\n",
    "\n",
    "Models:\n",
    "* Neuronal Network was the most worse model, but maybe with different hyperparameters it would work better, anaway I took it into the ensambling because the second model can learn this fact\n",
    "* The other models worked quite good.\n",
    "* I wasn't able to submit the serialized ExtraTreeClassifier because is had a size of more than 1.5 GB, I need to further investigate what was going on there.\n",
    "\n",
    "Ensambling:\n",
    "* The ensambling method was just a try, I think other schemes would work better, I got with a single RandomForrest\n",
    " a LB-Score of 1.22 so, next time I will use a time based splitting scheme, my idea was that I maybe have to little training data if I would have used I time based split and there was no more time to try other schemes, because of my slow pc\n",
    " * With this model I got a LB score of 1.21795, whats not very good if I compare to lagged predictions from October with a LB score of 1.16777\n",
    " * I did also tried the xcessiv library but had some problems with the speed\n",
    "\n",
    "Data Leakages:\n",
    "* I didn't find any real data leakages but predictions from the previous month gave 1.1677 and from the same month in the year before gave 1546 so there is a correllation\n",
    "\n",
    "Next time I will model training not in a jupyter notebook just the EDA, because it gets a little bit messy"
   ]
  }
 ],
 "metadata": {
  "kernelspec": {
   "display_name": "pytorch",
   "language": "python",
   "name": "pytorch"
  },
  "language_info": {
   "codemirror_mode": {
    "name": "ipython",
    "version": 3
   },
   "file_extension": ".py",
   "mimetype": "text/x-python",
   "name": "python",
   "nbconvert_exporter": "python",
   "pygments_lexer": "ipython3",
   "version": "3.5.4"
  },
  "toc": {
   "nav_menu": {},
   "number_sections": true,
   "sideBar": true,
   "skip_h1_title": false,
   "toc_cell": false,
   "toc_position": {
    "height": "854px",
    "left": "0px",
    "right": "1262px",
    "top": "111px",
    "width": "255px"
   },
   "toc_section_display": "block",
   "toc_window_display": true
  }
 },
 "nbformat": 4,
 "nbformat_minor": 2
}
